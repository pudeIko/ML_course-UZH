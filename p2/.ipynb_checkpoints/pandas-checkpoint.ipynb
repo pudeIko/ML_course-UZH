{
 "cells": [
  {
   "cell_type": "markdown",
   "metadata": {},
   "source": [
    "# pandas\n",
    "\n",
    "Similar to NumPy, pandas is one of the most wildly used Python libraries in data science. It is a high-performance and easy-to-use Python library for data analytics and manipulation. \n",
    "\n",
    "https://pandas.pydata.org/"
   ]
  },
  {
   "cell_type": "markdown",
   "metadata": {},
   "source": [
    "### pandas vs. NumPy\n",
    "\n",
    "Both NumPy and pandas are often used together. The pandas library relies heavily on the NumPy ndarray for the implementation of pandas data objects and shares many of its features. \n"
   ]
  },
  {
   "cell_type": "markdown",
   "metadata": {},
   "source": [
    "## pandas DataFrame vs. NumPy ndarray\n",
    "\n",
    "### ndarray\n",
    "\n",
    "    A = np.array([[1,2,3],\n",
    "                  [4,5,6]])\n",
    "\n",
    "### dataframe\n",
    "\n",
    "![alt text](dataframe.jpg \"data frame\")\n"
   ]
  },
  {
   "cell_type": "code",
   "execution_count": 2,
   "metadata": {},
   "outputs": [],
   "source": [
    "# import numpy and pandas\n",
    "import numpy as np\n",
    "import pandas as pd"
   ]
  },
  {
   "cell_type": "markdown",
   "metadata": {},
   "source": [
    "Create a matrix with columns x1, x2 and x3, where x1 has integers from 0 to 19, x2 = x1^2, and x3 = sqrt(x1)"
   ]
  },
  {
   "cell_type": "code",
   "execution_count": 3,
   "metadata": {},
   "outputs": [
    {
     "name": "stdout",
     "output_type": "stream",
     "text": [
      "[[  0.           0.           0.        ]\n",
      " [  1.           1.           1.        ]\n",
      " [  2.           4.           1.41421356]\n",
      " [  3.           9.           1.73205081]\n",
      " [  4.          16.           2.        ]\n",
      " [  5.          25.           2.23606798]\n",
      " [  6.          36.           2.44948974]\n",
      " [  7.          49.           2.64575131]\n",
      " [  8.          64.           2.82842712]\n",
      " [  9.          81.           3.        ]\n",
      " [ 10.         100.           3.16227766]\n",
      " [ 11.         121.           3.31662479]\n",
      " [ 12.         144.           3.46410162]\n",
      " [ 13.         169.           3.60555128]\n",
      " [ 14.         196.           3.74165739]\n",
      " [ 15.         225.           3.87298335]\n",
      " [ 16.         256.           4.        ]\n",
      " [ 17.         289.           4.12310563]\n",
      " [ 18.         324.           4.24264069]\n",
      " [ 19.         361.           4.35889894]]\n",
      "(20, 3)\n"
     ]
    }
   ],
   "source": [
    "x1 = np.array(range(20)) # 0, .., 19\n",
    "x2 = x1 ** 2\n",
    "x3 = np.sqrt(x1)\n",
    "\n",
    "X = np.array([x1, x2, x3]).T\n",
    "print(X)\n",
    "print(X.shape)"
   ]
  },
  {
   "cell_type": "markdown",
   "metadata": {},
   "source": [
    "Create a dataframe from the existing data"
   ]
  },
  {
   "cell_type": "code",
   "execution_count": 4,
   "metadata": {},
   "outputs": [
    {
     "data": {
      "text/html": [
       "<div>\n",
       "<style scoped>\n",
       "    .dataframe tbody tr th:only-of-type {\n",
       "        vertical-align: middle;\n",
       "    }\n",
       "\n",
       "    .dataframe tbody tr th {\n",
       "        vertical-align: top;\n",
       "    }\n",
       "\n",
       "    .dataframe thead th {\n",
       "        text-align: right;\n",
       "    }\n",
       "</style>\n",
       "<table border=\"1\" class=\"dataframe\">\n",
       "  <thead>\n",
       "    <tr style=\"text-align: right;\">\n",
       "      <th></th>\n",
       "      <th>x1</th>\n",
       "      <th>x2</th>\n",
       "      <th>x3</th>\n",
       "    </tr>\n",
       "  </thead>\n",
       "  <tbody>\n",
       "    <tr>\n",
       "      <th>0</th>\n",
       "      <td>0</td>\n",
       "      <td>0</td>\n",
       "      <td>0.000000</td>\n",
       "    </tr>\n",
       "    <tr>\n",
       "      <th>1</th>\n",
       "      <td>1</td>\n",
       "      <td>1</td>\n",
       "      <td>1.000000</td>\n",
       "    </tr>\n",
       "    <tr>\n",
       "      <th>2</th>\n",
       "      <td>2</td>\n",
       "      <td>4</td>\n",
       "      <td>1.414214</td>\n",
       "    </tr>\n",
       "    <tr>\n",
       "      <th>3</th>\n",
       "      <td>3</td>\n",
       "      <td>9</td>\n",
       "      <td>1.732051</td>\n",
       "    </tr>\n",
       "    <tr>\n",
       "      <th>4</th>\n",
       "      <td>4</td>\n",
       "      <td>16</td>\n",
       "      <td>2.000000</td>\n",
       "    </tr>\n",
       "    <tr>\n",
       "      <th>5</th>\n",
       "      <td>5</td>\n",
       "      <td>25</td>\n",
       "      <td>2.236068</td>\n",
       "    </tr>\n",
       "    <tr>\n",
       "      <th>6</th>\n",
       "      <td>6</td>\n",
       "      <td>36</td>\n",
       "      <td>2.449490</td>\n",
       "    </tr>\n",
       "    <tr>\n",
       "      <th>7</th>\n",
       "      <td>7</td>\n",
       "      <td>49</td>\n",
       "      <td>2.645751</td>\n",
       "    </tr>\n",
       "    <tr>\n",
       "      <th>8</th>\n",
       "      <td>8</td>\n",
       "      <td>64</td>\n",
       "      <td>2.828427</td>\n",
       "    </tr>\n",
       "    <tr>\n",
       "      <th>9</th>\n",
       "      <td>9</td>\n",
       "      <td>81</td>\n",
       "      <td>3.000000</td>\n",
       "    </tr>\n",
       "    <tr>\n",
       "      <th>10</th>\n",
       "      <td>10</td>\n",
       "      <td>100</td>\n",
       "      <td>3.162278</td>\n",
       "    </tr>\n",
       "    <tr>\n",
       "      <th>11</th>\n",
       "      <td>11</td>\n",
       "      <td>121</td>\n",
       "      <td>3.316625</td>\n",
       "    </tr>\n",
       "    <tr>\n",
       "      <th>12</th>\n",
       "      <td>12</td>\n",
       "      <td>144</td>\n",
       "      <td>3.464102</td>\n",
       "    </tr>\n",
       "    <tr>\n",
       "      <th>13</th>\n",
       "      <td>13</td>\n",
       "      <td>169</td>\n",
       "      <td>3.605551</td>\n",
       "    </tr>\n",
       "    <tr>\n",
       "      <th>14</th>\n",
       "      <td>14</td>\n",
       "      <td>196</td>\n",
       "      <td>3.741657</td>\n",
       "    </tr>\n",
       "    <tr>\n",
       "      <th>15</th>\n",
       "      <td>15</td>\n",
       "      <td>225</td>\n",
       "      <td>3.872983</td>\n",
       "    </tr>\n",
       "    <tr>\n",
       "      <th>16</th>\n",
       "      <td>16</td>\n",
       "      <td>256</td>\n",
       "      <td>4.000000</td>\n",
       "    </tr>\n",
       "    <tr>\n",
       "      <th>17</th>\n",
       "      <td>17</td>\n",
       "      <td>289</td>\n",
       "      <td>4.123106</td>\n",
       "    </tr>\n",
       "    <tr>\n",
       "      <th>18</th>\n",
       "      <td>18</td>\n",
       "      <td>324</td>\n",
       "      <td>4.242641</td>\n",
       "    </tr>\n",
       "    <tr>\n",
       "      <th>19</th>\n",
       "      <td>19</td>\n",
       "      <td>361</td>\n",
       "      <td>4.358899</td>\n",
       "    </tr>\n",
       "  </tbody>\n",
       "</table>\n",
       "</div>"
      ],
      "text/plain": [
       "    x1   x2        x3\n",
       "0    0    0  0.000000\n",
       "1    1    1  1.000000\n",
       "2    2    4  1.414214\n",
       "3    3    9  1.732051\n",
       "4    4   16  2.000000\n",
       "5    5   25  2.236068\n",
       "6    6   36  2.449490\n",
       "7    7   49  2.645751\n",
       "8    8   64  2.828427\n",
       "9    9   81  3.000000\n",
       "10  10  100  3.162278\n",
       "11  11  121  3.316625\n",
       "12  12  144  3.464102\n",
       "13  13  169  3.605551\n",
       "14  14  196  3.741657\n",
       "15  15  225  3.872983\n",
       "16  16  256  4.000000\n",
       "17  17  289  4.123106\n",
       "18  18  324  4.242641\n",
       "19  19  361  4.358899"
      ]
     },
     "execution_count": 4,
     "metadata": {},
     "output_type": "execute_result"
    }
   ],
   "source": [
    "df = pd.DataFrame({'x1': x1, 'x2': x2, 'x3': x3}) # we need to specify the column names\n",
    "df"
   ]
  },
  {
   "cell_type": "markdown",
   "metadata": {},
   "source": [
    "Transfer dataframes to numpy ndarrays by function `to_numpy`"
   ]
  },
  {
   "cell_type": "code",
   "execution_count": 5,
   "metadata": {},
   "outputs": [
    {
     "name": "stdout",
     "output_type": "stream",
     "text": [
      "[[  0.           0.           0.        ]\n",
      " [  1.           1.           1.        ]\n",
      " [  2.           4.           1.41421356]\n",
      " [  3.           9.           1.73205081]\n",
      " [  4.          16.           2.        ]\n",
      " [  5.          25.           2.23606798]\n",
      " [  6.          36.           2.44948974]\n",
      " [  7.          49.           2.64575131]\n",
      " [  8.          64.           2.82842712]\n",
      " [  9.          81.           3.        ]\n",
      " [ 10.         100.           3.16227766]\n",
      " [ 11.         121.           3.31662479]\n",
      " [ 12.         144.           3.46410162]\n",
      " [ 13.         169.           3.60555128]\n",
      " [ 14.         196.           3.74165739]\n",
      " [ 15.         225.           3.87298335]\n",
      " [ 16.         256.           4.        ]\n",
      " [ 17.         289.           4.12310563]\n",
      " [ 18.         324.           4.24264069]\n",
      " [ 19.         361.           4.35889894]]\n"
     ]
    }
   ],
   "source": [
    "X2 = df.to_numpy()\n",
    "print(X2)"
   ]
  },
  {
   "cell_type": "code",
   "execution_count": null,
   "metadata": {},
   "outputs": [],
   "source": []
  }
 ],
 "metadata": {
  "kernelspec": {
   "display_name": "Python 3",
   "language": "python",
   "name": "python3"
  },
  "language_info": {
   "codemirror_mode": {
    "name": "ipython",
    "version": 3
   },
   "file_extension": ".py",
   "mimetype": "text/x-python",
   "name": "python",
   "nbconvert_exporter": "python",
   "pygments_lexer": "ipython3",
   "version": "3.8.3"
  }
 },
 "nbformat": 4,
 "nbformat_minor": 4
}
